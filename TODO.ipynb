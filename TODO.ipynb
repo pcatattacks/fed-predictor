{
 "cells": [
  {
   "cell_type": "markdown",
   "metadata": {},
   "source": [
    "# ECON 399 Independent Study\n",
    "## Predicting Federal Reserve Board of Governer Interest Rate Decisons\n",
    "\n",
    "### TODO:\n",
    "\n",
    "1. Download datasets and extract features\n",
    "2. Perform time series forecasting and evaluate performance\n",
    "    1. https://www.analyticsvidhya.com/blog/2016/02/time-series-forecasting-codes-python/ \n",
    "    2. https://medium.com/open-machine-learning-course/open-machine-learning-course-topic-9-time-series-analysis-in-python-a270cb05e0b3\n",
    "3. Use machine learning techniques to do the same\n",
    "    1. https://www.datascience.com/blog/time-series-forecasting-machine-learning-differences\n",
    "    2. https://towardsdatascience.com/how-not-to-use-machine-learning-for-time-series-forecasting-avoiding-the-pitfalls-19f9d7adf424\n",
    "    3. https://machinelearningmastery.com/time-series-forecasting-supervised-learning/\n",
    "    4. https://machinelearningmastery.com/deep-learning-for-time-series-forecasting/)\n",
    "4. Include textual / sentiment based features and re-evaluate performance\n",
    "5. Conclude"
   ]
  },
  {
   "cell_type": "code",
   "execution_count": null,
   "metadata": {
    "collapsed": true
   },
   "outputs": [],
   "source": []
  }
 ],
 "metadata": {
  "kernelspec": {
   "display_name": "Python 3",
   "language": "python",
   "name": "python3"
  },
  "language_info": {
   "codemirror_mode": {
    "name": "ipython",
    "version": 3
   },
   "file_extension": ".py",
   "mimetype": "text/x-python",
   "name": "python",
   "nbconvert_exporter": "python",
   "pygments_lexer": "ipython3",
   "version": "3.6.2"
  }
 },
 "nbformat": 4,
 "nbformat_minor": 2
}
